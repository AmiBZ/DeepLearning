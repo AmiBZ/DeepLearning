{
  "nbformat": 4,
  "nbformat_minor": 0,
  "metadata": {
    "accelerator": "GPU",
    "colab": {
      "name": "DNN_MNIST.ipynb",
      "provenance": [],
      "collapsed_sections": [],
      "authorship_tag": "ABX9TyN8PWGI4ay7do8DuHMag6s2",
      "include_colab_link": true
    },
    "kernelspec": {
      "display_name": "Python 3",
      "name": "python3"
    }
  },
  "cells": [
    {
      "cell_type": "markdown",
      "metadata": {
        "id": "view-in-github",
        "colab_type": "text"
      },
      "source": [
        "<a href=\"https://colab.research.google.com/github/AmiBZ/DeepLearning/blob/main/DNN_MNIST.ipynb\" target=\"_parent\"><img src=\"https://colab.research.google.com/assets/colab-badge.svg\" alt=\"Open In Colab\"/></a>"
      ]
    },
    {
      "cell_type": "code",
      "metadata": {
        "id": "6zS8uzgsYCep"
      },
      "source": [
        "from tensorflow.keras.datasets import mnist\n",
        "import numpy as np\n",
        "import matplotlib.pyplot as plt"
      ],
      "execution_count": 17,
      "outputs": []
    },
    {
      "cell_type": "markdown",
      "metadata": {
        "id": "sbZYBTX5YWQI"
      },
      "source": [
        "Accès à la base de donnée MNIST"
      ]
    },
    {
      "cell_type": "code",
      "metadata": {
        "id": "AtlYVBhhYbWt"
      },
      "source": [
        "(X_train,y_train),(X_test,y_test)=mnist.load_data()"
      ],
      "execution_count": 18,
      "outputs": []
    },
    {
      "cell_type": "code",
      "metadata": {
        "colab": {
          "base_uri": "https://localhost:8080/"
        },
        "id": "4sZWeCgxYtkj",
        "outputId": "9f34842a-0b6e-4f33-e62d-23f239c018c4"
      },
      "source": [
        "np.shape(X_train)\n",
        "np.shape(y_train)\n",
        "np.shape(X_test)"
      ],
      "execution_count": 19,
      "outputs": [
        {
          "output_type": "execute_result",
          "data": {
            "text/plain": [
              "(10000, 28, 28)"
            ]
          },
          "metadata": {
            "tags": []
          },
          "execution_count": 19
        }
      ]
    },
    {
      "cell_type": "markdown",
      "metadata": {
        "id": "XYHfv2CdZKYF"
      },
      "source": [
        "**Visualisation**"
      ]
    },
    {
      "cell_type": "code",
      "metadata": {
        "colab": {
          "base_uri": "https://localhost:8080/",
          "height": 297
        },
        "id": "mBC9PWJgZJ7N",
        "outputId": "9fc9db1d-2b09-4012-d4a6-a0163e0c4ffe"
      },
      "source": [
        "fig = plt.figure()\n",
        "for i in range(9):\n",
        "  plt.subplot(3,3,i+1)\n",
        "  plt.tight_layout() #pour donner de l'éspace entre les figure\n",
        "  plt.imshow(X_train[i])\n",
        "  plt.title(\"chiffre {}\".format(y_train[i]))"
      ],
      "execution_count": 20,
      "outputs": [
        {
          "output_type": "display_data",
          "data": {
            "image/png": "[encoded data removed]",
            "text/plain": [
              "<Figure size 432x288 with 9 Axes>"
            ]
          },
          "metadata": {
            "tags": [],
            "needs_background": "light"
          }
        }
      ]
    },
    {
      "cell_type": "markdown",
      "metadata": {
        "id": "tqZa7ybhbM7L"
      },
      "source": [
        "**Transformation des images ( Matrix 28*28) en des vecteurs(784)**"
      ]
    },
    {
      "cell_type": "code",
      "metadata": {
        "id": "8-ukkKYMY2PB"
      },
      "source": [
        "X_train = X_train.reshape(60000,784)\n",
        "X_test = X_test.reshape(10000,784)"
      ],
      "execution_count": 21,
      "outputs": []
    },
    {
      "cell_type": "markdown",
      "metadata": {
        "id": "IYk8h6VOi7K-"
      },
      "source": [
        "**Normalisation**"
      ]
    },
    {
      "cell_type": "code",
      "metadata": {
        "id": "DF2_d0RJi-aX"
      },
      "source": [
        "# Faut pas travailler sur des donner de type entier\n",
        "#les transformer en des données de type float\n",
        "#par la dévision ou bien par un transtipage: X_train = X_train.astype(dtype=\"float\") \n",
        "X_train = X_train/255\n",
        "X_test = X_test/255"
      ],
      "execution_count": 22,
      "outputs": []
    },
    {
      "cell_type": "markdown",
      "metadata": {
        "id": "H6J88qPmfnFU"
      },
      "source": [
        "**Transformation des labels**"
      ]
    },
    {
      "cell_type": "code",
      "metadata": {
        "id": "xZgsZaEnY7RL"
      },
      "source": [
        "print(np.unique(y_train))"
      ],
      "execution_count": null,
      "outputs": []
    },
    {
      "cell_type": "code",
      "metadata": {
        "id": "j8P-gnPXeusN"
      },
      "source": [
        "from keras.utils import np_utils\n",
        "Y_train = np_utils.to_categorical(y_train,10)\n",
        "Y_test = np_utils.to_categorical(y_test,10)\n",
        "\n",
        "print(y_train[0], Y_train[0])"
      ],
      "execution_count": null,
      "outputs": []
    },
    {
      "cell_type": "code",
      "metadata": {
        "id": "pKVX2Pcyf5Yk"
      },
      "source": [
        "from tensorflow.keras.models import Sequential\n",
        "from tensorflow.keras.layers import Dense\n",
        "\n",
        "def create_model():\n",
        "  model=Sequential()\n",
        "  model.add(Dense(512, input_shape=(784,),activation=\"relu\"))\n",
        "  model.add(Dense(512, activation = \"relu\"))\n",
        "  model.add(Dense(10, activation=\"softmax\"))\n",
        "\n",
        "  return model\n",
        "\n",
        "model = create_model()"
      ],
      "execution_count": 25,
      "outputs": []
    },
    {
      "cell_type": "markdown",
      "metadata": {
        "id": "sqSFnYsEhx2D"
      },
      "source": [
        "**Compilation**"
      ]
    },
    {
      "cell_type": "code",
      "metadata": {
        "id": "mfsPHkGkhaxP"
      },
      "source": [
        "model.compile(optimizer=\"SGD\", loss=\"categorical_crossentropy\", metrics=[\"accuracy\"])\n"
      ],
      "execution_count": 26,
      "outputs": []
    },
    {
      "cell_type": "markdown",
      "metadata": {
        "id": "4du7lFwhh7am"
      },
      "source": [
        "**Appentissage**"
      ]
    },
    {
      "cell_type": "code",
      "metadata": {
        "id": "LmSR0vqzh-sP"
      },
      "source": [
        "#Executer la compilation avant l'apprentissage\n",
        "h=model.fit(X_train, Y_train, batch_size=128, epochs=20, validation_data=(X_test,Y_test))"
      ],
      "execution_count": null,
      "outputs": []
    },
    {
      "cell_type": "code",
      "metadata": {
        "id": "G4vS8F6O1GVj"
      },
      "source": [
        "fig=plt.figure()\n",
        "plt.subplot(2,1,1)\n",
        "plt.plot(h.history[\"accuracy\"])\n",
        "plt.plot(h.history[\"val_accuracy\"])\n",
        "plt.title(\"model accuracy\")\n",
        "plt.xlabel(\"epoch\")\n",
        "plt.ylabel(\"accuracy\")\n",
        "\n",
        "plt.subplot(2,1,2)\n",
        "plt.plot(h.history[\"loss\"])\n",
        "plt.plot(h.history[\"val_loss\"])\n",
        "plt.title(\"model loss\")\n",
        "plt.xlabel(\"epoch\")\n",
        "plt.ylabel(\"loss\")\n",
        "plt.tight_layout()"
      ],
      "execution_count": null,
      "outputs": []
    },
    {
      "cell_type": "code",
      "metadata": {
        "id": "THqkwh4b7cVn"
      },
      "source": [
        "prediction_test= model.predict_classes(X_test)"
      ],
      "execution_count": 29,
      "outputs": []
    },
    {
      "cell_type": "code",
      "metadata": {
        "id": "MoDrgv4f0kO_"
      },
      "source": [
        "fig_Pred = plt.figure()\n",
        "X_test = X_test.reshape(10000,28,28)\n",
        "for i in range(12):\n",
        "  plt.subplot(4,3,i+1)\n",
        "  plt.tight_layout() \n",
        "  plt.imshow(X_test[i])\n",
        "  plt.title(\"pred {}  truth {}\".format(prediction_test[i],y_test[i]))"
      ],
      "execution_count": null,
      "outputs": []
    }
  ]
}
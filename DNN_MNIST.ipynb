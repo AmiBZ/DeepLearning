{
  "nbformat": 4,
  "nbformat_minor": 0,
  "metadata": {
    "accelerator": "GPU",
    "colab": {
      "name": "DNN_MNIST.ipynb",
      "provenance": [],
      "collapsed_sections": [],
      "authorship_tag": "ABX9TyNP6tr2s0D4CEODIyk5hARb",
      "include_colab_link": true
    },
    "kernelspec": {
      "display_name": "Python 3",
      "name": "python3"
    }
  },
  "cells": [
    {
      "cell_type": "markdown",
      "metadata": {
        "id": "view-in-github",
        "colab_type": "text"
      },
      "source": [
        "<a href=\"https://colab.research.google.com/github/AmiBZ/objetDetection/blob/main/DNN_MNIST.ipynb\" target=\"_parent\"><img src=\"https://colab.research.google.com/assets/colab-badge.svg\" alt=\"Open In Colab\"/></a>"
      ]
    },
    {
      "cell_type": "code",
      "metadata": {
        "id": "6zS8uzgsYCep"
      },
      "source": [
        "from tensorflow.keras.datasets import mnist\n",
        "import numpy as np\n",
        "import matplotlib.pyplot as plt"
      ],
      "execution_count": null,
      "outputs": []
    },
    {
      "cell_type": "markdown",
      "metadata": {
        "id": "sbZYBTX5YWQI"
      },
      "source": [
        "Accès à la base de donnée MNIST"
      ]
    },
    {
      "cell_type": "code",
      "metadata": {
        "colab": {
          "base_uri": "https://localhost:8080/"
        },
        "id": "AtlYVBhhYbWt",
        "outputId": "24a0acc4-20f3-402e-cd2c-73da120fa87a"
      },
      "source": [
        "(X_train,y_train),(X_test,y_test)=mnist.load_data()"
      ],
      "execution_count": null,
      "outputs": [
        {
          "output_type": "stream",
          "text": [
            "Downloading data from https://storage.googleapis.com/tensorflow/tf-keras-datasets/mnist.npz\n",
            "11493376/11490434 [==============================] - 0s 0us/step\n"
          ],
          "name": "stdout"
        }
      ]
    },
    {
      "cell_type": "code",
      "metadata": {
        "colab": {
          "base_uri": "https://localhost:8080/"
        },
        "id": "4sZWeCgxYtkj",
        "outputId": "7bfca17e-f487-4c6f-979e-71b0ff3c74ee"
      },
      "source": [
        "np.shape(X_train)\n",
        "np.shape(y_train)\n",
        "np.shape(X_test)"
      ],
      "execution_count": null,
      "outputs": [
        {
          "output_type": "execute_result",
          "data": {
            "text/plain": [
              "(60000, 28, 28)"
            ]
          },
          "metadata": {
            "tags": []
          },
          "execution_count": 3
        }
      ]
    },
    {
      "cell_type": "markdown",
      "metadata": {
        "id": "XYHfv2CdZKYF"
      },
      "source": [
        "**Visualisation**"
      ]
    },
    {
      "cell_type": "code",
      "metadata": {
        "colab": {
          "base_uri": "https://localhost:8080/",
          "height": 297
        },
        "id": "mBC9PWJgZJ7N",
        "outputId": "6c0b54c3-8979-428c-9000-ef76bc145843"
      },
      "source": [
        "fig = plt.figure()\n",
        "for i in range(9):\n",
        "  plt.subplot(3,3,i+1)\n",
        "  plt.tight_layout() #pour donner de l'éspace entre les figure\n",
        "  plt.imshow(X_train[i])\n",
        "  plt.title(\"chiffre {}\".format(y_train[i]))"
      ],
      "execution_count": null,
      "outputs": [
        {
          "output_type": "display_data",
          "data": {
            "image/png": "[encoded data removed]",
            "text/plain": [
              "<Figure size 432x288 with 9 Axes>"
            ]
          },
          "metadata": {
            "tags": []
          }
        }
      ]
    },
    {
      "cell_type": "markdown",
      "metadata": {
        "id": "tqZa7ybhbM7L"
      },
      "source": [
        "**Transformation des images ( Matrix 28*28) en des vecteurs(784)**"
      ]
    },
    {
      "cell_type": "code",
      "metadata": {
        "id": "8-ukkKYMY2PB"
      },
      "source": [
        "X_train = X_train.reshape(60000,784)\n",
        "X_test = X_test.reshape(10000,784)"
      ],
      "execution_count": null,
      "outputs": []
    },
    {
      "cell_type": "markdown",
      "metadata": {
        "id": "IYk8h6VOi7K-"
      },
      "source": [
        "**Normalisation**"
      ]
    },
    {
      "cell_type": "code",
      "metadata": {
        "id": "DF2_d0RJi-aX"
      },
      "source": [
        "# Faut pas travailler sur des donner de type entier\n",
        "#les transformer en des données de type float\n",
        "#soit par la dévision soit par un transtipage: X_train = X_train.astype(dtype=\"float\") \n",
        "X_train = X_train/255\n",
        "X_test = X_test/255"
      ],
      "execution_count": null,
      "outputs": []
    },
    {
      "cell_type": "markdown",
      "metadata": {
        "id": "H6J88qPmfnFU"
      },
      "source": [
        "**Transformation des labels**"
      ]
    },
    {
      "cell_type": "code",
      "metadata": {
        "colab": {
          "base_uri": "https://localhost:8080/"
        },
        "id": "xZgsZaEnY7RL",
        "outputId": "9f99b908-aa7b-4185-9cc8-5acb602706cd"
      },
      "source": [
        "print(np.unique(y_train))"
      ],
      "execution_count": null,
      "outputs": [
        {
          "output_type": "stream",
          "text": [
            "[0 1 2 3 4 5 6 7 8 9]\n"
          ],
          "name": "stdout"
        }
      ]
    },
    {
      "cell_type": "code",
      "metadata": {
        "colab": {
          "base_uri": "https://localhost:8080/"
        },
        "id": "j8P-gnPXeusN",
        "outputId": "7eb01671-ce62-4c75-9cb6-bd50d26405cf"
      },
      "source": [
        "from keras.utils import np_utils\n",
        "Y_train = np_utils.to_categorical(y_train,10)\n",
        "Y_test = np_utils.to_categorical(y_test,10)\n",
        "\n",
        "print(y_train[0], Y_train[0])"
      ],
      "execution_count": null,
      "outputs": [
        {
          "output_type": "stream",
          "text": [
            "5 [0. 0. 0. 0. 0. 1. 0. 0. 0. 0.]\n"
          ],
          "name": "stdout"
        }
      ]
    },
    {
      "cell_type": "code",
      "metadata": {
        "id": "pKVX2Pcyf5Yk"
      },
      "source": [
        "from tensorflow.keras.models import Sequential\n",
        "from tensorflow.keras.layers import Dense\n",
        "\n",
        "def create_model():\n",
        "  model=Sequential()\n",
        "  model.add(Dense(512, input_shape=(784,),activation=\"relu\"))\n",
        "  model.add(Dense(512, activation = \"relu\"))\n",
        "  model.add(Dense(10, activation=\"softmax\"))\n",
        "\n",
        "  return model\n",
        "\n",
        "model = create_model()"
      ],
      "execution_count": null,
      "outputs": []
    },
    {
      "cell_type": "markdown",
      "metadata": {
        "id": "sqSFnYsEhx2D"
      },
      "source": [
        "**Compilation**"
      ]
    },
    {
      "cell_type": "code",
      "metadata": {
        "id": "mfsPHkGkhaxP"
      },
      "source": [
        "model.compile(optimizer=\"SGD\", loss=\"categorical_crossentropy\", metrics=[\"accuracy\"])\n"
      ],
      "execution_count": null,
      "outputs": []
    },
    {
      "cell_type": "markdown",
      "metadata": {
        "id": "4du7lFwhh7am"
      },
      "source": [
        "**Appentissage**"
      ]
    },
    {
      "cell_type": "code",
      "metadata": {
        "colab": {
          "background_save": true,
          "base_uri": "https://localhost:8080/"
        },
        "id": "LmSR0vqzh-sP",
        "outputId": "c3a28e50-cc6b-449f-85fa-ef3a82d3d45a"
      },
      "source": [
        "#Executer la compilation avant l'apprentissage\n",
        "model.fit(X_train, Y_train, batch_size=128, epochs=20, validation_data=(X_test,Y_test))"
      ],
      "execution_count": null,
      "outputs": [
        {
          "output_type": "stream",
          "text": [
            "Epoch 1/100\n",
            "469/469 [==============================] - 5s 12ms/step - loss: 0.0375 - accuracy: 0.9911 - val_loss: 0.0717 - val_accuracy: 0.9775\n",
            "Epoch 2/100\n",
            "469/469 [==============================] - 5s 12ms/step - loss: 0.0368 - accuracy: 0.9913 - val_loss: 0.0718 - val_accuracy: 0.9780\n",
            "Epoch 3/100\n",
            "469/469 [==============================] - 6s 12ms/step - loss: 0.0363 - accuracy: 0.9916 - val_loss: 0.0717 - val_accuracy: 0.9783\n",
            "Epoch 4/100\n",
            "469/469 [==============================] - 5s 12ms/step - loss: 0.0357 - accuracy: 0.9916 - val_loss: 0.0703 - val_accuracy: 0.9774\n",
            "Epoch 5/100\n",
            "469/469 [==============================] - 5s 12ms/step - loss: 0.0350 - accuracy: 0.9916 - val_loss: 0.0703 - val_accuracy: 0.9773\n",
            "Epoch 6/100\n",
            "469/469 [==============================] - 5s 12ms/step - loss: 0.0344 - accuracy: 0.9920 - val_loss: 0.0707 - val_accuracy: 0.9775\n",
            "Epoch 7/100\n",
            "469/469 [==============================] - 5s 12ms/step - loss: 0.0339 - accuracy: 0.9921 - val_loss: 0.0692 - val_accuracy: 0.9781\n",
            "Epoch 8/100\n",
            "469/469 [==============================] - 5s 12ms/step - loss: 0.0335 - accuracy: 0.9922 - val_loss: 0.0691 - val_accuracy: 0.9788\n",
            "Epoch 9/100\n",
            "469/469 [==============================] - 5s 12ms/step - loss: 0.0329 - accuracy: 0.9924 - val_loss: 0.0695 - val_accuracy: 0.9786\n",
            "Epoch 10/100\n",
            "469/469 [==============================] - 5s 12ms/step - loss: 0.0324 - accuracy: 0.9927 - val_loss: 0.0688 - val_accuracy: 0.9784\n",
            "Epoch 11/100\n",
            "469/469 [==============================] - 5s 12ms/step - loss: 0.0318 - accuracy: 0.9929 - val_loss: 0.0692 - val_accuracy: 0.9778\n",
            "Epoch 12/100\n",
            "469/469 [==============================] - 5s 12ms/step - loss: 0.0313 - accuracy: 0.9930 - val_loss: 0.0689 - val_accuracy: 0.9788\n",
            "Epoch 13/100\n",
            "469/469 [==============================] - 5s 12ms/step - loss: 0.0309 - accuracy: 0.9931 - val_loss: 0.0678 - val_accuracy: 0.9789\n",
            "Epoch 14/100\n",
            "469/469 [==============================] - 5s 12ms/step - loss: 0.0304 - accuracy: 0.9933 - val_loss: 0.0678 - val_accuracy: 0.9777\n",
            "Epoch 15/100\n",
            "469/469 [==============================] - 5s 12ms/step - loss: 0.0298 - accuracy: 0.9935 - val_loss: 0.0675 - val_accuracy: 0.9792\n",
            "Epoch 16/100\n",
            "469/469 [==============================] - 5s 12ms/step - loss: 0.0293 - accuracy: 0.9936 - val_loss: 0.0669 - val_accuracy: 0.9793\n",
            "Epoch 17/100\n",
            "469/469 [==============================] - 5s 12ms/step - loss: 0.0289 - accuracy: 0.9940 - val_loss: 0.0674 - val_accuracy: 0.9791\n",
            "Epoch 18/100\n",
            "469/469 [==============================] - 5s 12ms/step - loss: 0.0284 - accuracy: 0.9943 - val_loss: 0.0674 - val_accuracy: 0.9797\n",
            "Epoch 19/100\n",
            "469/469 [==============================] - 5s 12ms/step - loss: 0.0280 - accuracy: 0.9940 - val_loss: 0.0675 - val_accuracy: 0.9795\n",
            "Epoch 20/100\n",
            "469/469 [==============================] - 5s 12ms/step - loss: 0.0275 - accuracy: 0.9942 - val_loss: 0.0669 - val_accuracy: 0.9798\n",
            "Epoch 21/100\n",
            "469/469 [==============================] - 5s 12ms/step - loss: 0.0271 - accuracy: 0.9946 - val_loss: 0.0668 - val_accuracy: 0.9797\n",
            "Epoch 22/100\n",
            "469/469 [==============================] - 5s 12ms/step - loss: 0.0267 - accuracy: 0.9947 - val_loss: 0.0664 - val_accuracy: 0.9798\n",
            "Epoch 23/100\n",
            "469/469 [==============================] - 5s 12ms/step - loss: 0.0263 - accuracy: 0.9947 - val_loss: 0.0666 - val_accuracy: 0.9796\n",
            "Epoch 24/100\n",
            "469/469 [==============================] - 5s 12ms/step - loss: 0.0259 - accuracy: 0.9949 - val_loss: 0.0664 - val_accuracy: 0.9792\n",
            "Epoch 25/100\n",
            "469/469 [==============================] - 5s 12ms/step - loss: 0.0255 - accuracy: 0.9947 - val_loss: 0.0661 - val_accuracy: 0.9796\n",
            "Epoch 26/100\n",
            "469/469 [==============================] - 5s 12ms/step - loss: 0.0251 - accuracy: 0.9950 - val_loss: 0.0667 - val_accuracy: 0.9787\n",
            "Epoch 27/100\n",
            "469/469 [==============================] - 5s 12ms/step - loss: 0.0248 - accuracy: 0.9953 - val_loss: 0.0661 - val_accuracy: 0.9799\n",
            "Epoch 28/100\n",
            "469/469 [==============================] - 6s 12ms/step - loss: 0.0243 - accuracy: 0.9952 - val_loss: 0.0663 - val_accuracy: 0.9791\n",
            "Epoch 29/100\n",
            "469/469 [==============================] - 5s 12ms/step - loss: 0.0240 - accuracy: 0.9956 - val_loss: 0.0656 - val_accuracy: 0.9798\n",
            "Epoch 30/100\n",
            "469/469 [==============================] - 5s 12ms/step - loss: 0.0236 - accuracy: 0.9955 - val_loss: 0.0659 - val_accuracy: 0.9796\n",
            "Epoch 31/100\n",
            "469/469 [==============================] - 5s 12ms/step - loss: 0.0233 - accuracy: 0.9955 - val_loss: 0.0656 - val_accuracy: 0.9796\n",
            "Epoch 32/100\n",
            "469/469 [==============================] - 5s 12ms/step - loss: 0.0229 - accuracy: 0.9958 - val_loss: 0.0663 - val_accuracy: 0.9794\n",
            "Epoch 33/100\n",
            "469/469 [==============================] - 6s 12ms/step - loss: 0.0226 - accuracy: 0.9958 - val_loss: 0.0653 - val_accuracy: 0.9800\n",
            "Epoch 34/100\n",
            "469/469 [==============================] - 5s 12ms/step - loss: 0.0222 - accuracy: 0.9959 - val_loss: 0.0666 - val_accuracy: 0.9795\n",
            "Epoch 35/100\n",
            "469/469 [==============================] - 5s 11ms/step - loss: 0.0218 - accuracy: 0.9962 - val_loss: 0.0648 - val_accuracy: 0.9803\n",
            "Epoch 36/100\n",
            "469/469 [==============================] - 5s 11ms/step - loss: 0.0215 - accuracy: 0.9961 - val_loss: 0.0651 - val_accuracy: 0.9797\n",
            "Epoch 37/100\n",
            "469/469 [==============================] - 5s 11ms/step - loss: 0.0212 - accuracy: 0.9962 - val_loss: 0.0650 - val_accuracy: 0.9795\n",
            "Epoch 38/100\n",
            "469/469 [==============================] - 5s 11ms/step - loss: 0.0209 - accuracy: 0.9962 - val_loss: 0.0649 - val_accuracy: 0.9802\n",
            "Epoch 39/100\n",
            "469/469 [==============================] - 5s 11ms/step - loss: 0.0206 - accuracy: 0.9966 - val_loss: 0.0649 - val_accuracy: 0.9803\n",
            "Epoch 40/100\n",
            "469/469 [==============================] - 5s 12ms/step - loss: 0.0204 - accuracy: 0.9965 - val_loss: 0.0648 - val_accuracy: 0.9806\n",
            "Epoch 41/100\n",
            "469/469 [==============================] - 5s 12ms/step - loss: 0.0200 - accuracy: 0.9966 - val_loss: 0.0647 - val_accuracy: 0.9799\n",
            "Epoch 42/100\n",
            "469/469 [==============================] - 5s 12ms/step - loss: 0.0197 - accuracy: 0.9966 - val_loss: 0.0652 - val_accuracy: 0.9798\n",
            "Epoch 43/100\n",
            "469/469 [==============================] - 5s 11ms/step - loss: 0.0194 - accuracy: 0.9968 - val_loss: 0.0647 - val_accuracy: 0.9804\n",
            "Epoch 44/100\n",
            "469/469 [==============================] - 5s 11ms/step - loss: 0.0191 - accuracy: 0.9969 - val_loss: 0.0651 - val_accuracy: 0.9804\n",
            "Epoch 45/100\n",
            "469/469 [==============================] - 5s 12ms/step - loss: 0.0189 - accuracy: 0.9970 - val_loss: 0.0645 - val_accuracy: 0.9807\n",
            "Epoch 46/100\n",
            "469/469 [==============================] - 6s 12ms/step - loss: 0.0186 - accuracy: 0.9972 - val_loss: 0.0649 - val_accuracy: 0.9802\n",
            "Epoch 47/100\n",
            "469/469 [==============================] - 6s 12ms/step - loss: 0.0184 - accuracy: 0.9971 - val_loss: 0.0642 - val_accuracy: 0.9801\n",
            "Epoch 48/100\n",
            "469/469 [==============================] - 5s 12ms/step - loss: 0.0181 - accuracy: 0.9973 - val_loss: 0.0642 - val_accuracy: 0.9806\n",
            "Epoch 49/100\n",
            "469/469 [==============================] - 5s 11ms/step - loss: 0.0178 - accuracy: 0.9972 - val_loss: 0.0643 - val_accuracy: 0.9801\n",
            "Epoch 50/100\n",
            "469/469 [==============================] - 5s 12ms/step - loss: 0.0176 - accuracy: 0.9973 - val_loss: 0.0640 - val_accuracy: 0.9803\n",
            "Epoch 51/100\n",
            "469/469 [==============================] - 5s 11ms/step - loss: 0.0173 - accuracy: 0.9976 - val_loss: 0.0637 - val_accuracy: 0.9802\n",
            "Epoch 52/100\n",
            "469/469 [==============================] - 5s 12ms/step - loss: 0.0171 - accuracy: 0.9976 - val_loss: 0.0642 - val_accuracy: 0.9803\n",
            "Epoch 53/100\n",
            "469/469 [==============================] - 6s 12ms/step - loss: 0.0168 - accuracy: 0.9976 - val_loss: 0.0640 - val_accuracy: 0.9799\n",
            "Epoch 54/100\n",
            "469/469 [==============================] - 5s 12ms/step - loss: 0.0166 - accuracy: 0.9977 - val_loss: 0.0644 - val_accuracy: 0.9802\n",
            "Epoch 55/100\n",
            "469/469 [==============================] - 5s 12ms/step - loss: 0.0164 - accuracy: 0.9977 - val_loss: 0.0648 - val_accuracy: 0.9796\n",
            "Epoch 56/100\n",
            "469/469 [==============================] - 5s 12ms/step - loss: 0.0161 - accuracy: 0.9979 - val_loss: 0.0640 - val_accuracy: 0.9804\n",
            "Epoch 57/100\n",
            "469/469 [==============================] - 5s 12ms/step - loss: 0.0159 - accuracy: 0.9979 - val_loss: 0.0640 - val_accuracy: 0.9800\n",
            "Epoch 58/100\n",
            "469/469 [==============================] - 5s 12ms/step - loss: 0.0157 - accuracy: 0.9980 - val_loss: 0.0646 - val_accuracy: 0.9804\n",
            "Epoch 59/100\n",
            "469/469 [==============================] - 5s 12ms/step - loss: 0.0155 - accuracy: 0.9980 - val_loss: 0.0638 - val_accuracy: 0.9803\n",
            "Epoch 60/100\n",
            "469/469 [==============================] - 5s 12ms/step - loss: 0.0153 - accuracy: 0.9982 - val_loss: 0.0640 - val_accuracy: 0.9793\n",
            "Epoch 61/100\n",
            "469/469 [==============================] - 5s 12ms/step - loss: 0.0151 - accuracy: 0.9981 - val_loss: 0.0641 - val_accuracy: 0.9800\n",
            "Epoch 62/100\n",
            "469/469 [==============================] - 5s 12ms/step - loss: 0.0149 - accuracy: 0.9984 - val_loss: 0.0638 - val_accuracy: 0.9800\n",
            "Epoch 63/100\n",
            "469/469 [==============================] - 5s 11ms/step - loss: 0.0147 - accuracy: 0.9983 - val_loss: 0.0644 - val_accuracy: 0.9805\n",
            "Epoch 64/100\n",
            "469/469 [==============================] - 5s 12ms/step - loss: 0.0145 - accuracy: 0.9982 - val_loss: 0.0635 - val_accuracy: 0.9803\n",
            "Epoch 65/100\n",
            "469/469 [==============================] - 5s 12ms/step - loss: 0.0143 - accuracy: 0.9983 - val_loss: 0.0637 - val_accuracy: 0.9800\n",
            "Epoch 66/100\n",
            "469/469 [==============================] - 5s 12ms/step - loss: 0.0141 - accuracy: 0.9983 - val_loss: 0.0643 - val_accuracy: 0.9801\n",
            "Epoch 67/100\n",
            "469/469 [==============================] - 5s 12ms/step - loss: 0.0139 - accuracy: 0.9985 - val_loss: 0.0638 - val_accuracy: 0.9799\n",
            "Epoch 68/100\n",
            "469/469 [==============================] - 5s 11ms/step - loss: 0.0137 - accuracy: 0.9984 - val_loss: 0.0636 - val_accuracy: 0.9802\n",
            "Epoch 69/100\n",
            "469/469 [==============================] - 5s 12ms/step - loss: 0.0136 - accuracy: 0.9984 - val_loss: 0.0649 - val_accuracy: 0.9802\n",
            "Epoch 70/100\n",
            "469/469 [==============================] - 5s 12ms/step - loss: 0.0134 - accuracy: 0.9987 - val_loss: 0.0636 - val_accuracy: 0.9805\n",
            "Epoch 71/100\n",
            "469/469 [==============================] - 5s 11ms/step - loss: 0.0132 - accuracy: 0.9985 - val_loss: 0.0637 - val_accuracy: 0.9808\n",
            "Epoch 72/100\n",
            "469/469 [==============================] - 5s 12ms/step - loss: 0.0130 - accuracy: 0.9985 - val_loss: 0.0633 - val_accuracy: 0.9805\n",
            "Epoch 73/100\n",
            "469/469 [==============================] - 5s 12ms/step - loss: 0.0129 - accuracy: 0.9987 - val_loss: 0.0636 - val_accuracy: 0.9807\n",
            "Epoch 74/100\n",
            "469/469 [==============================] - 5s 12ms/step - loss: 0.0127 - accuracy: 0.9987 - val_loss: 0.0636 - val_accuracy: 0.9804\n",
            "Epoch 75/100\n",
            "469/469 [==============================] - 5s 12ms/step - loss: 0.0125 - accuracy: 0.9987 - val_loss: 0.0633 - val_accuracy: 0.9808\n",
            "Epoch 76/100\n",
            "469/469 [==============================] - 5s 12ms/step - loss: 0.0124 - accuracy: 0.9987 - val_loss: 0.0638 - val_accuracy: 0.9803\n",
            "Epoch 77/100\n",
            "469/469 [==============================] - 6s 13ms/step - loss: 0.0122 - accuracy: 0.9987 - val_loss: 0.0640 - val_accuracy: 0.9801\n",
            "Epoch 78/100\n",
            "469/469 [==============================] - 6s 13ms/step - loss: 0.0121 - accuracy: 0.9988 - val_loss: 0.0637 - val_accuracy: 0.9807\n",
            "Epoch 79/100\n",
            "469/469 [==============================] - 5s 12ms/step - loss: 0.0119 - accuracy: 0.9989 - val_loss: 0.0639 - val_accuracy: 0.9801\n",
            "Epoch 80/100\n",
            "469/469 [==============================] - 5s 12ms/step - loss: 0.0118 - accuracy: 0.9989 - val_loss: 0.0639 - val_accuracy: 0.9810\n",
            "Epoch 81/100\n",
            "469/469 [==============================] - 5s 12ms/step - loss: 0.0116 - accuracy: 0.9989 - val_loss: 0.0635 - val_accuracy: 0.9808\n",
            "Epoch 82/100\n",
            "469/469 [==============================] - 5s 12ms/step - loss: 0.0115 - accuracy: 0.9990 - val_loss: 0.0634 - val_accuracy: 0.9805\n",
            "Epoch 83/100\n",
            "469/469 [==============================] - 5s 12ms/step - loss: 0.0114 - accuracy: 0.9990 - val_loss: 0.0639 - val_accuracy: 0.9805\n",
            "Epoch 84/100\n",
            "469/469 [==============================] - 5s 12ms/step - loss: 0.0112 - accuracy: 0.9990 - val_loss: 0.0634 - val_accuracy: 0.9803\n",
            "Epoch 85/100\n",
            "469/469 [==============================] - 5s 12ms/step - loss: 0.0111 - accuracy: 0.9989 - val_loss: 0.0631 - val_accuracy: 0.9809\n",
            "Epoch 86/100\n",
            "469/469 [==============================] - 5s 12ms/step - loss: 0.0109 - accuracy: 0.9990 - val_loss: 0.0639 - val_accuracy: 0.9807\n",
            "Epoch 87/100\n",
            "469/469 [==============================] - 5s 12ms/step - loss: 0.0108 - accuracy: 0.9990 - val_loss: 0.0633 - val_accuracy: 0.9805\n",
            "Epoch 88/100\n",
            "469/469 [==============================] - 5s 12ms/step - loss: 0.0107 - accuracy: 0.9991 - val_loss: 0.0635 - val_accuracy: 0.9809\n",
            "Epoch 89/100\n",
            "469/469 [==============================] - 5s 12ms/step - loss: 0.0106 - accuracy: 0.9990 - val_loss: 0.0635 - val_accuracy: 0.9808\n",
            "Epoch 90/100\n",
            "469/469 [==============================] - 5s 12ms/step - loss: 0.0104 - accuracy: 0.9991 - val_loss: 0.0640 - val_accuracy: 0.9804\n",
            "Epoch 91/100\n",
            "469/469 [==============================] - 5s 12ms/step - loss: 0.0103 - accuracy: 0.9991 - val_loss: 0.0637 - val_accuracy: 0.9808\n",
            "Epoch 92/100\n",
            "469/469 [==============================] - 5s 12ms/step - loss: 0.0101 - accuracy: 0.9991 - val_loss: 0.0636 - val_accuracy: 0.9812\n",
            "Epoch 93/100\n",
            "469/469 [==============================] - 5s 12ms/step - loss: 0.0101 - accuracy: 0.9991 - val_loss: 0.0635 - val_accuracy: 0.9808\n",
            "Epoch 94/100\n",
            "469/469 [==============================] - 5s 12ms/step - loss: 0.0099 - accuracy: 0.9992 - val_loss: 0.0639 - val_accuracy: 0.9805\n",
            "Epoch 95/100\n",
            "469/469 [==============================] - 5s 12ms/step - loss: 0.0098 - accuracy: 0.9992 - val_loss: 0.0635 - val_accuracy: 0.9805\n",
            "Epoch 96/100\n",
            "469/469 [==============================] - 5s 12ms/step - loss: 0.0097 - accuracy: 0.9992 - val_loss: 0.0636 - val_accuracy: 0.9806\n",
            "Epoch 97/100\n",
            "469/469 [==============================] - 5s 12ms/step - loss: 0.0096 - accuracy: 0.9992 - val_loss: 0.0641 - val_accuracy: 0.9806\n",
            "Epoch 98/100\n",
            "469/469 [==============================] - 5s 12ms/step - loss: 0.0095 - accuracy: 0.9992 - val_loss: 0.0638 - val_accuracy: 0.9807\n",
            "Epoch 99/100\n",
            "469/469 [==============================] - 5s 12ms/step - loss: 0.0093 - accuracy: 0.9992 - val_loss: 0.0636 - val_accuracy: 0.9803\n",
            "Epoch 100/100\n",
            "469/469 [==============================] - 5s 12ms/step - loss: 0.0092 - accuracy: 0.9993 - val_loss: 0.0638 - val_accuracy: 0.9804\n"
          ],
          "name": "stdout"
        },
        {
          "output_type": "execute_result",
          "data": {
            "text/plain": [
              "<tensorflow.python.keras.callbacks.History at 0x7f80f58be710>"
            ]
          },
          "metadata": {
            "tags": []
          },
          "execution_count": 0
        }
      ]
    },
    {
      "cell_type": "code",
      "metadata": {
        "colab": {
          "base_uri": "https://localhost:8080/",
          "height": 297
        },
        "id": "G4vS8F6O1GVj",
        "outputId": "99283d32-dc36-4409-cf67-0a1f242c5885"
      },
      "source": [
        "fig=plt.figure()\n",
        "plt.subplot(2,1,1)\n",
        "plt.plot(h.history[\"accuracy\"])\n",
        "plt.plot(h.history[\"val_accuracy\"])\n",
        "plt.title(\"model accuracy\")\n",
        "plt.xlabel(\"epoch\")\n",
        "plt.ylabel(\"accuracy\")\n",
        "\n",
        "plt.subplot(2,1,2)\n",
        "plt.plot(h.history[\"loss\"])\n",
        "plt.plot(h.history[\"val_loss\"])\n",
        "plt.title(\"model loss\")\n",
        "plt.xlabel(\"epoch\")\n",
        "plt.ylabel(\"loss\")\n",
        "plt.tight_layout()"
      ],
      "execution_count": 34,
      "outputs": [
        {
          "output_type": "display_data",
          "data": {
            "image/png": "[encoded data removed]",
            "text/plain": [
              "<Figure size 432x288 with 2 Axes>"
            ]
          },
          "metadata": {
            "tags": [],
            "needs_background": "light"
          }
        }
      ]
    },
    {
      "cell_type": "code",
      "metadata": {
        "colab": {
          "base_uri": "https://localhost:8080/",
          "height": 297
        },
        "id": "MoDrgv4f0kO_",
        "outputId": "0f6f4381-848e-4f9e-fc20-cd2c128cc2e3"
      },
      "source": [
        "fig_Pred = plt.figure()\n",
        "X_test = X_test.reshape(10000,28,28)\n",
        "for i in range(12):\n",
        "  plt.subplot(4,3,i+1)\n",
        "  plt.tight_layout() \n",
        "  plt.imshow(X_test[i])\n",
        "  plt.title(\"pred {}  truth {}\".format(prediction_test[i],y_test[i]))"
      ],
      "execution_count": 30,
      "outputs": [
        {
          "output_type": "display_data",
          "data": {
            "image/png": "[encoded data removed]",
            "text/plain": [
              "<Figure size 432x288 with 12 Axes>"
            ]
          },
          "metadata": {
            "tags": [],
            "needs_background": "light"
          }
        }
      ]
    }
  ]
}